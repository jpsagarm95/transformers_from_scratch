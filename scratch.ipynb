{
 "cells": [
  {
   "cell_type": "code",
   "execution_count": null,
   "metadata": {},
   "outputs": [],
   "source": [
    "from tensorflow.keras.layers import Layer, Dropout\n",
    "from positional_encoding import PositionalEmbeddingFixedWeightsLayer\n",
    "from decoder_layer import DecoderLayer\n",
    "from numpy import random"
   ]
  },
  {
   "cell_type": "code",
   "execution_count": null,
   "metadata": {},
   "outputs": [],
   "source": [
    "class Decoder(Layer):\n",
    "    def __init__(self, vocab_size, sequence_length, h, d_k, d_v, d_model, d_ff, n, rate, **kwargs):\n",
    "        super().__init__(**kwargs)\n",
    "        self.pos_encoding = PositionalEmbeddingFixedWeightsLayer(sequence_length, vocab_size, d_model)\n",
    "        self.dropout = Dropout(rate)\n",
    "        self.decoder_layer = [DecoderLayer(h, d_k, d_v, d_model, d_ff, rate) for _ in range(n)]\n",
    "    \n",
    "    def call(self, output_target, encoder_output, lookahead_mask, padding_mask, training):\n",
    "        pos_encoding_output = self.pos_encoding(output_target)\n",
    "        x = self.dropout(pos_encoding_output)\n",
    "        for layer in self.decoder_layer:\n",
    "            x = layer(x, encoder_output, lookahead_mask, padding_mask, training)\n",
    "        return x"
   ]
  },
  {
   "cell_type": "code",
   "execution_count": null,
   "metadata": {},
   "outputs": [],
   "source": [
    "h = 8\n",
    "d_k = 64\n",
    "d_v = 64\n",
    "d_model = 512\n",
    "d_ff = 2048\n",
    "n = 6\n",
    "rate = 0.1\n",
    "batch_size = 64\n",
    "\n",
    "dec_vocab_size = 20\n",
    "input_seq_length = 5\n",
    "\n",
    "input_seq = random.random((batch_size, input_seq_length))\n",
    "enc_output = random.random((batch_size, 50, d_model))\n",
    "\n",
    "decoder = Decoder(dec_vocab_size, input_seq_length, h, d_k, d_v, d_model, d_ff, n, rate)\n",
    "print(decoder(input_seq, enc_output, None, None, True))\n",
    "\n"
   ]
  }
 ],
 "metadata": {
  "kernelspec": {
   "display_name": "base",
   "language": "python",
   "name": "python3"
  },
  "language_info": {
   "codemirror_mode": {
    "name": "ipython",
    "version": 3
   },
   "file_extension": ".py",
   "mimetype": "text/x-python",
   "name": "python",
   "nbconvert_exporter": "python",
   "pygments_lexer": "ipython3",
   "version": "3.10.4"
  }
 },
 "nbformat": 4,
 "nbformat_minor": 2
}
