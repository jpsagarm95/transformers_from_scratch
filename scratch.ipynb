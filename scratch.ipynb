{
 "cells": [
  {
   "cell_type": "code",
   "execution_count": null,
   "metadata": {},
   "outputs": [],
   "source": [
    "from pickle import load\n",
    "from tensorflow.keras.preprocessing.sequence import pad_sequences\n",
    "from tensorflow import Module, convert_to_tensor, int64, TensorArray, argmax, newaxis, transpose\n",
    "from transformer import Transformer"
   ]
  },
  {
   "cell_type": "code",
   "execution_count": null,
   "metadata": {},
   "outputs": [],
   "source": [
    "h = 8\n",
    "d_k = 64\n",
    "d_v = 64\n",
    "d_model = 512\n",
    "d_ff = 2048\n",
    "n = 6\n",
    "\n",
    "enc_seq_length = 7\n",
    "dec_seq_length = 12\n",
    "enc_vocab_size = 2404\n",
    "dec_vocab_size = 3864\n",
    "\n",
    "inferencing_model = Transformer(enc_vocab_size, dec_vocab_size, enc_seq_length, dec_seq_length, h, d_k, d_v, d_model, d_ff, n, 0)"
   ]
  },
  {
   "cell_type": "code",
   "execution_count": null,
   "metadata": {},
   "outputs": [],
   "source": [
    "class Translate(Module):\n",
    "    def __init__(self, inferencing_model, **kwargs):\n",
    "        super().__init__(**kwargs)\n",
    "        self.transformer = inferencing_model\n",
    "\n",
    "    def load_tokenizer(self, name):\n",
    "        with open(name, 'rb') as handle:\n",
    "            return load(handle)\n",
    "        \n",
    "    def __call__(self, sentence):\n",
    "        if len(sentence) != 1:\n",
    "            print('Works only for one sentence for now')\n",
    "            return\n",
    "        sentence[0] = \"<START> \" + sentence[0] + \" <EOS>\"\n",
    "\n",
    "        enc_tokenizer = self.load_tokenizer('enc_tokenizer.pkl')\n",
    "        dec_tokenizer = self.load_tokenizer('dec_tokenizer.pkl')\n",
    "\n",
    "        encoder_input = enc_tokenizer.texts_to_sequences(sentence)\n",
    "        encoder_input = pad_sequences(encoder_input, maxlen=enc_seq_length, padding='post')\n",
    "        encoder_input = convert_to_tensor(encoder_input, dtype=int64)\n",
    "\n",
    "        output_start = dec_tokenizer.texts_to_sequences(['<START>'])\n",
    "        output_start = convert_to_tensor(output_start[0], dtype=int64)\n",
    "\n",
    "        output_end = dec_tokenizer.texts_to_sequences(['<EOS>'])\n",
    "        output_end = convert_to_tensor(output_end[0], dtype=int64)\n",
    "\n",
    "        decoder_output = TensorArray(dtype=int64, size=0, dynamic_size=True)\n",
    "        decoder_output = decoder_output.write(0, output_start)\n",
    "\n",
    "        for i in range(dec_seq_length):\n",
    "            prediction = self.transformer(encoder_input, transpose(decoder_output.stack()), training=False)\n",
    "            prediction = prediction[:, -1, :]\n",
    "\n",
    "            predicted_id = argmax(prediction, axis=-1)\n",
    "\n",
    "            decoder_output = decoder_output.write(i + 1, predicted_id)\n",
    "\n",
    "            if predicted_id == output_end:\n",
    "                break\n",
    "        output = transpose(decoder_output.stack())[0]\n",
    "        output = output.numpy()\n",
    "\n",
    "        output_str = []\n",
    "\n",
    "        for i in range(output.shape[0]):\n",
    "            key = output[i]\n",
    "            output_str.append(dec_tokenizer.index_word[key])\n",
    "\n",
    "        return output_str\n"
   ]
  },
  {
   "cell_type": "code",
   "execution_count": null,
   "metadata": {},
   "outputs": [],
   "source": [
    "sentence = ['im thirsty']\n",
    "\n",
    "inferencing_model.load_weights('weights/wghts16.ckpt')\n",
    "\n",
    "translator = Translate(inferencing_model)\n",
    "\n",
    "print(translator(sentence))"
   ]
  }
 ],
 "metadata": {
  "kernelspec": {
   "display_name": "base",
   "language": "python",
   "name": "python3"
  },
  "language_info": {
   "codemirror_mode": {
    "name": "ipython",
    "version": 3
   },
   "file_extension": ".py",
   "mimetype": "text/x-python",
   "name": "python",
   "nbconvert_exporter": "python",
   "pygments_lexer": "ipython3",
   "version": "3.10.4"
  }
 },
 "nbformat": 4,
 "nbformat_minor": 2
}
