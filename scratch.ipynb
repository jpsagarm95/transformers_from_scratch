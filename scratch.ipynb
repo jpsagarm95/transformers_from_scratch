{
 "cells": [
  {
   "cell_type": "code",
   "execution_count": null,
   "metadata": {},
   "outputs": [],
   "source": [
    "from tensorflow.keras.layers import LayerNormalization, Layer, Dense, ReLU, Dropout\n",
    "from multi_head_attention import MultiHeadAttention\n",
    "from numpy import random\n",
    "from tensorflow import shape"
   ]
  },
  {
   "cell_type": "code",
   "execution_count": null,
   "metadata": {},
   "outputs": [],
   "source": [
    "class AddNormalization(Layer):\n",
    "    def __init__(self, **kwargs):\n",
    "        super().__init__(**kwargs)\n",
    "        self.layer_norm = LayerNormalization()\n",
    "\n",
    "    def call(self, x, sublayer_x):\n",
    "        add = x + sublayer_x\n",
    "        return self.layer_norm(add)"
   ]
  },
  {
   "cell_type": "code",
   "execution_count": null,
   "metadata": {},
   "outputs": [],
   "source": [
    "class FeedForward(Layer):\n",
    "    def __init__(self, d_ff, d_model, **kwargs):\n",
    "        super().__init__(**kwargs)\n",
    "        self.fully_connected1 = Dense(d_ff)\n",
    "        self.fully_connected2 = Dense(d_model)\n",
    "        self.activation = ReLU()\n",
    "    \n",
    "    def call(self, x):\n",
    "        x_fc1 = self.fully_connected1(x)\n",
    "        return self.fully_connected2(self.activation(x_fc1))"
   ]
  },
  {
   "cell_type": "code",
   "execution_count": null,
   "metadata": {},
   "outputs": [],
   "source": [
    "class EncoderLayer(Layer):\n",
    "    def __init__(self, h, d_k, d_v, d_model, d_ff, rate, **kwargs):\n",
    "        super().__init__(**kwargs)\n",
    "        self.multihead_attention = MultiHeadAttention(h, d_k, d_v, d_model)\n",
    "        self.dropout1 = Dropout(rate)\n",
    "        self.add_norm1 = AddNormalization()\n",
    "        self.feed_forward = FeedForward(d_ff, d_model)\n",
    "        self.dropout2 = Dropout(rate)\n",
    "        self.add_norm2 = AddNormalization()\n",
    "    \n",
    "    def call(self, x, padding_mask, training):\n",
    "        multihead_output = self.multihead_attention(x, x, x, padding_mask)\n",
    "        multihead_output = self.dropout1(multihead_output, training=training)\n",
    "        addnorm_output = self.add_norm1(x, multihead_output)\n",
    "        feedforward_output = self.feed_forward(addnorm_output)\n",
    "        feedforward_output = self.dropout2(feedforward_output, training=training)\n",
    "        return self.add_norm2(addnorm_output, feedforward_output)\n",
    "    "
   ]
  },
  {
   "cell_type": "code",
   "execution_count": null,
   "metadata": {},
   "outputs": [],
   "source": [
    "h = 8\n",
    "d_k = 64\n",
    "d_v = 64\n",
    "d_model = 512\n",
    "d_ff = 2048\n",
    "rate = 0.3\n",
    "batch_size = 64\n",
    "seq_len = 8\n",
    "\n",
    "encoder_layer = EncoderLayer(h, d_k, d_v, d_model, d_ff, rate)\n",
    "\n",
    "x = random.random((batch_size, seq_len, d_model))\n",
    "\n",
    "print(encoder_layer(x, None, True))"
   ]
  },
  {
   "cell_type": "code",
   "execution_count": null,
   "metadata": {},
   "outputs": [],
   "source": []
  }
 ],
 "metadata": {
  "kernelspec": {
   "display_name": "base",
   "language": "python",
   "name": "python3"
  },
  "language_info": {
   "codemirror_mode": {
    "name": "ipython",
    "version": 3
   },
   "file_extension": ".py",
   "mimetype": "text/x-python",
   "name": "python",
   "nbconvert_exporter": "python",
   "pygments_lexer": "ipython3",
   "version": "3.10.4"
  }
 },
 "nbformat": 4,
 "nbformat_minor": 2
}
