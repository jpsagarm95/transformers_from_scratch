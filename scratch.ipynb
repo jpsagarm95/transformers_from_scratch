{
 "cells": [
  {
   "cell_type": "code",
   "execution_count": null,
   "metadata": {},
   "outputs": [],
   "source": [
    "from scaled_dot_product_attention import DotProductAttention\n",
    "from tensorflow.keras.layers import Dense, Layer\n",
    "from tensorflow import reshape, transpose, shape\n",
    "from numpy import random"
   ]
  },
  {
   "cell_type": "code",
   "execution_count": null,
   "metadata": {},
   "outputs": [],
   "source": [
    "class MultiHeadAttention(Layer):\n",
    "    def __init__(self, h, d_k, d_v, d_model, **kwargs):\n",
    "        super().__init__(**kwargs)\n",
    "        self.attention = DotProductAttention()\n",
    "        self.heads = h\n",
    "        self.d_k = d_k\n",
    "        self.d_v = d_v\n",
    "        self.d_model = d_model\n",
    "        self.W_q = Dense(d_k)\n",
    "        self.W_k = Dense(d_k)\n",
    "        self.W_v = Dense(d_v)\n",
    "        self.W_o = Dense(d_model)\n",
    "    \n",
    "    def reshape_tensor(self, x, heads, flag):\n",
    "        if flag:\n",
    "            x = reshape(x, shape=(shape(x)[0], shape(x)[1], heads, -1))\n",
    "            x = transpose(x, perm=(0, 2, 1, 3))\n",
    "        else:\n",
    "            x = transpose(x, perm=(0, 2, 1, 3))\n",
    "            x = reshape(x, shape=(shape(x)[0], shape(x)[1], -1))\n",
    "        return x\n",
    "    \n",
    "    def call(self, queries, keys, values, mask=None):\n",
    "        q = self.reshape_tensor(self.W_q(queries), self.heads, True)\n",
    "        k = self.reshape_tensor(self.W_k(keys), self.heads, True)\n",
    "        v = self.reshape_tensor(self.W_v(values), self.heads, True)\n",
    "        o = self.attention(q, k, v, self.d_k, mask)\n",
    "        return self.W_o(self.reshape_tensor(o, self.heads, False))\n",
    "\n"
   ]
  },
  {
   "cell_type": "code",
   "execution_count": null,
   "metadata": {},
   "outputs": [],
   "source": [
    "h = 8\n",
    "d_k = 64\n",
    "d_v = 64\n",
    "d_model = 512\n",
    "batch_size = 64\n",
    "input_seq_length = 5\n",
    "\n",
    "queries = random.random((batch_size, input_seq_length, d_k))\n",
    "keys = random.random((batch_size, input_seq_length, d_k))\n",
    "values = random.random((batch_size, input_seq_length, d_v))\n",
    "\n",
    "multihead_attention = MultiHeadAttention(h, d_k, d_v, d_model)\n",
    "print(multihead_attention(queries, keys, values))"
   ]
  }
 ],
 "metadata": {
  "kernelspec": {
   "display_name": "base",
   "language": "python",
   "name": "python3"
  },
  "language_info": {
   "codemirror_mode": {
    "name": "ipython",
    "version": 3
   },
   "file_extension": ".py",
   "mimetype": "text/x-python",
   "name": "python",
   "nbconvert_exporter": "python",
   "pygments_lexer": "ipython3",
   "version": "3.10.4"
  }
 },
 "nbformat": 4,
 "nbformat_minor": 2
}
